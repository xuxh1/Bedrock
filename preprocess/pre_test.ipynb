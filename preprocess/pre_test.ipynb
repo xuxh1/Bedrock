{
 "cells": [
  {
   "cell_type": "code",
   "execution_count": 2,
   "id": "7062ef05",
   "metadata": {},
   "outputs": [],
   "source": [
    "import os\n",
    "import xarray as xr\n",
    "import numpy as np\n",
    "import netCDF4 as nc\n",
    "import shutil\n",
    "import subprocess\n",
    "from math import radians, sin\n",
    "from pyproj import Geod\n",
    "from shapely.geometry import Point, LineString, Polygon\n",
    "import glob\n",
    "from joblib import Parallel, delayed\n",
    "from tqdm import tqdm, trange\n",
    "from myfunc import timer, run_command\n",
    "import math\n",
    "\n",
    "path = '/tera04/zhwei/xionghui/bedrock/'"
   ]
  },
  {
   "cell_type": "markdown",
   "id": "5220daa2",
   "metadata": {},
   "source": [
    "Calculate the mask procedure include: \n",
    "1. mask area without adequate water (sum ET>P from 2003 to 2020)\n",
    "2. mask area without woody vegetation (IGBP=1~9)\n",
    "3. mask area without shallow bedrock (DTB<150cm)\n",
    "the mask procedure4 need to calculate after the Dbedrock calculation."
   ]
  },
  {
   "cell_type": "code",
   "execution_count": null,
   "id": "f69adfbb",
   "metadata": {},
   "outputs": [],
   "source": [
    "def mask_adequatewater() -> None:\n",
    "    diff_file = os.path.join(path, 'diff', 'diff.nc')\n",
    "    dir_path = os.path.join(path, 'mask_all', 'mask_adequatewater')\n",
    "    os.makedirs(dir_path, exist_ok=True)\n",
    "    output_sum = os.path.join(dir_path, 'diff_sum.nc4')\n",
    "    output_interp = os.path.join(dir_path, 'diff_sum_interp.nc4')\n",
    "    mask_file = os.path.join(dir_path, 'mask_adequatewater.nc4')\n",
    "    run_command(f\"cdo -f nc4 -P 48 timsum {diff_file} {output_sum}\")\n",
    "    run_command(f\"gdalwarp -multi -wo NUM_THREADS=48 -ot Float32 -of netCDF -co FORMAT=NC4 -r bilinear -ts 86400 43200 -overwrite {output_sum} {output_interp}\")\n",
    "    run_command(f\"cdo -f nc4 -z zip -setrtoc2,0,inf,nan,1 {output_interp} {mask_file}\")\n",
    "    print(\"mask_adequatewater completed\")\n",
    "\n",
    "def mask_woodyveg() -> None:\n",
    "    dir_path = os.path.join(path, 'mask_all', 'mask_woodyveg')\n",
    "    os.makedirs(dir_path, exist_ok=True)\n",
    "    igbp_file = os.path.join(dir_path, 'global_igbp_15s_2020.nc')\n",
    "    mask_file = os.path.join(dir_path, 'mask_woodyveg.nc4')\n",
    "    run_command(f\"cdo -f nc4 -z zip -setrtoc2,1,9,1,nan {igbp_file} {mask_file}\")\n",
    "    print(\"mask_woodyveg completed\")\n",
    "\n",
    "def mask_shallowbedrock() -> None:\n",
    "    dir_path = os.path.join(path, 'mask_all', 'mask_shallowbedrock')\n",
    "    os.makedirs(dir_path, exist_ok=True)\n",
    "    dtb_file = os.path.join(dir_path, 'average_soil_and_sedimentary-deposit_thickness_remap_cm.nc')\n",
    "    output_interp = os.path.join(dir_path, 'dtb_interp.nc4')\n",
    "    mask_file = os.path.join(dir_path, 'mask_shallowbedrock.nc4')\n",
    "    run_command(f\"gdalwarp -multi -wo NUM_THREADS=48 -ot Float32 -of netCDF -co FORMAT=NC4 -r bilinear -ts 86400 43200 -overwrite {dtb_file} {output_interp}\")\n",
    "    run_command(f\"cdo -f nc4 -z zip -setrtoc2,0,150,1,nan {output_interp} {mask_file}\")\n",
    "    print(\"mask_shallowbedrock completed\")"
   ]
  },
  {
   "cell_type": "code",
   "execution_count": null,
   "id": "bae0c75c",
   "metadata": {},
   "outputs": [],
   "source": [
    "mask_adequatewater()\n",
    "mask_woodyveg()\n",
    "mask_shallowbedrock()"
   ]
  },
  {
   "cell_type": "markdown",
   "id": "1b055648",
   "metadata": {},
   "source": [
    "Calculate the Ssoil:\n",
    "1. calculate the DTB stratification (0~5~15~30~60~100~150 cm) to align the SAWS stratification (0~5~15~30~60~100~200 cm)\n",
    "2. use the vertical stratification (DTB and SAWS) to calculate the Ssoil"
   ]
  },
  {
   "cell_type": "code",
   "execution_count": 3,
   "id": "a739616a",
   "metadata": {},
   "outputs": [],
   "source": [
    "def Ssoil() -> None:\n",
    "    layer = [0, 5, 15, 30, 60, 100, 150]\n",
    "    dir_path = os.path.join(path, 'Ssoil')\n",
    "    os.makedirs(dir_path, exist_ok=True)\n",
    "    saws_path = os.path.join(dir_path, 'SAWS_Kosugi')\n",
    "    ssoil_file = os.path.join(dir_path, f'Ssoil.nc4')\n",
    "\n",
    "    def DTB_layer() -> None:\n",
    "        dtb_file = os.path.join(dir_path, 'average_soil_and_sedimentary-deposit_thickness_remap_cm.nc')\n",
    "        image = xr.open_dataset(dtb_file)\n",
    "        s = image['Band1']\n",
    "        for i in range(len(layer)-1):\n",
    "            dtb_layer_file = os.path.join(dir_path, f'DTB_layer{i+1}.nc')\n",
    "            delta_s = s - layer[i]\n",
    "            delta_s = np.where(delta_s>(layer[i+1]-layer[i]), (layer[i+1]-layer[i]), delta_s)\n",
    "            delta_s = np.where(delta_s<0, 0, delta_s)\n",
    "            \n",
    "            shutil.copyfile(f'{saws_path}/saws{i+1}.nc', dtb_layer_file)\n",
    "            with nc.Dataset(dtb_layer_file, 'a') as file:\n",
    "                s_var = file.variables['Band1']\n",
    "                s_var[:,:] = delta_s      \n",
    "        print(\"DTB_layer completed\")\n",
    "\n",
    "    DTB_layer()\n",
    "    for i in range(len(layer)-1):\n",
    "        dtb_layer_file = os.path.join(dir_path, f'DTB_layer{i+1}.nc')\n",
    "        saws_layer_file = os.path.join(dir_path, f'saws{i+1}.nc')\n",
    "        ssoil_layer_file = os.path.join(dir_path, f'Ssoil_layer{i+1}.nc4')\n",
    "        run_command(f'ln -sf {saws_path}/saws{i+1}.nc {saws_layer_file}')\n",
    "        run_command(f'cdo -f nc4 -z zip -mulc,10 -mul {saws_layer_file} {dtb_layer_file} {ssoil_layer_file}')\n",
    "    filelist = [f'{dir_path}/Ssoil_layer{i+1}.nc4' for i in range(len(layer)-1)]\n",
    "    filelistname = ' '.join(filelist)\n",
    "    run_command(f'cdo -f nc4 -z zip -enssum {filelistname} {ssoil_file}')\n",
    "    print(\"Ssoil completed\")"
   ]
  },
  {
   "cell_type": "code",
   "execution_count": 4,
   "id": "4ad69fdf",
   "metadata": {},
   "outputs": [
    {
     "name": "stdout",
     "output_type": "stream",
     "text": [
      "DTB_layer completed\n",
      "Ssoil completed\n"
     ]
    }
   ],
   "source": [
    "Ssoil()"
   ]
  },
  {
   "cell_type": "code",
   "execution_count": 5,
   "id": "32368678",
   "metadata": {},
   "outputs": [
    {
     "name": "stdout",
     "output_type": "stream",
     "text": [
      "0\n",
      "1\n",
      "2\n",
      "3\n",
      "4\n",
      "5\n",
      "cdo -f nc4 -z zip -enssum /tera04/zhwei/xionghui/bedrock/Ssoil/Ssoil_layer1.nc4 /tera04/zhwei/xionghui/bedrock/Ssoil/Ssoil_layer2.nc4 /tera04/zhwei/xionghui/bedrock/Ssoil/Ssoil_layer3.nc4 /tera04/zhwei/xionghui/bedrock/Ssoil/Ssoil_layer4.nc4 /tera04/zhwei/xionghui/bedrock/Ssoil/Ssoil_layer5.nc4 /tera04/zhwei/xionghui/bedrock/Ssoil/Ssoil_layer6.nc4 /tera04/zhwei/xionghui/bedrock/Ssoil/Ssoil.nc4\n"
     ]
    }
   ],
   "source": [
    "layer = [0, 5, 15, 30, 60, 100, 150]\n",
    "dir_path = os.path.join(path, 'Ssoil')\n",
    "for i in range(len(layer)-1):\n",
    "    print(i)\n",
    "    ssoil_layer_file = os.path.join(dir_path, f'Ssoil_layer{i+1}.nc4')\n",
    "filelist = [f'{dir_path}/Ssoil_layer{i+1}.nc4' for i in range(len(layer)-1)]\n",
    "filelistname = ' '.join(filelist)\n",
    "ssoil_file = os.path.join(dir_path, f'Ssoil.nc4')\n",
    "\n",
    "print(f'cdo -f nc4 -z zip -enssum {filelistname} {ssoil_file}')\n"
   ]
  },
  {
   "cell_type": "code",
   "execution_count": null,
   "id": "e9e909b1",
   "metadata": {},
   "outputs": [],
   "source": [
    "dir_path = os.path.join(path, 'mask_all', 'mask_adequatewater')\n",
    "file1 = os.path.join(dir_path, 'mask_adequatewater.nc4')\n",
    "file2 = os.path.join(dir_path, 'mask_adequatewater_0p1.nc4')\n",
    "run_command(f\"gdalwarp -multi -wo NUM_THREADS=48 -ot Float32 -of netCDF -co FORMAT=NC4 -r bilinear -ts 3600 1800 -overwrite {file1} {file2}\")"
   ]
  },
  {
   "cell_type": "code",
   "execution_count": null,
   "id": "96bc506d",
   "metadata": {},
   "outputs": [],
   "source": [
    "dir_path = os.path.join(path, 'mask_all', 'mask_woodyveg')\n",
    "file1 = os.path.join(dir_path, 'mask_woodyveg.nc4')\n",
    "file2 = os.path.join(dir_path, 'mask_woodyveg_0p1.nc4')\n",
    "run_command(f\"gdalwarp -multi -wo NUM_THREADS=48 -ot Float32 -of netCDF -co FORMAT=NC4 -r bilinear -ts 3600 1800 -overwrite {file1} {file2}\")"
   ]
  },
  {
   "cell_type": "code",
   "execution_count": null,
   "id": "3ea2682f",
   "metadata": {},
   "outputs": [],
   "source": [
    "dir_path = os.path.join(path, 'mask_all', 'mask_shallowbedrock')\n",
    "file1 = os.path.join(dir_path, 'mask_shallowbedrock.nc4')\n",
    "file2 = os.path.join(dir_path, 'mask_shallowbedrock_0p1.nc4')\n",
    "run_command(f\"gdalwarp -multi -wo NUM_THREADS=48 -ot Float32 -of netCDF -co FORMAT=NC4 -r bilinear -ts 3600 1800 -overwrite {file1} {file2}\")"
   ]
  },
  {
   "cell_type": "code",
   "execution_count": null,
   "id": "622e7f8a",
   "metadata": {},
   "outputs": [],
   "source": [
    "dir_path = os.path.join(path, 'Ssoil')\n",
    "file1 = os.path.join(dir_path, 'Ssoil.nc4')\n",
    "file2 = os.path.join(dir_path, 'Ssoil_0p1.nc4')\n",
    "run_command(f\"gdalwarp -multi -wo NUM_THREADS=48 -ot Float32 -of netCDF -co FORMAT=NC4 -r bilinear -ts 3600 1800 -overwrite {file1} {file2}\")"
   ]
  },
  {
   "cell_type": "code",
   "execution_count": null,
   "id": "e972c046",
   "metadata": {},
   "outputs": [],
   "source": [
    "dir_path = os.path.join(path, 'mask_all', 'mask_adequatewater')\n",
    "file1 = os.path.join(dir_path, 'mask_adequatewater.nc4')\n",
    "file2 = os.path.join(dir_path, 'mask_adequatewater_0p1.nc4')\n",
    "run_command(f\"gdalwarp -multi -wo NUM_THREADS=48 -ot Float32 -of netCDF -co FORMAT=NC4 -r bilinear -ts 3600 1800 -overwrite {file1} {file2}\")"
   ]
  }
 ],
 "metadata": {
  "kernelspec": {
   "display_name": "jupyter",
   "language": "python",
   "name": "python3"
  },
  "language_info": {
   "codemirror_mode": {
    "name": "ipython",
    "version": 3
   },
   "file_extension": ".py",
   "mimetype": "text/x-python",
   "name": "python",
   "nbconvert_exporter": "python",
   "pygments_lexer": "ipython3",
   "version": "3.10.14"
  }
 },
 "nbformat": 4,
 "nbformat_minor": 5
}
