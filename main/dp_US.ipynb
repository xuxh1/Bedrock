{
 "cells": [
  {
   "cell_type": "code",
   "execution_count": null,
   "metadata": {},
   "outputs": [],
   "source": [
    "import os\n",
    "import subprocess\n",
    "import numpy as np\n",
    "import xarray as xr\n",
    "from myfunc import timer\n",
    "from myfunc import DirMan\n",
    "import config\n",
    "\n",
    "# configuration\n",
    "# resolution = \"0p1\"\n",
    "resolution = \"500\"\n",
    "# region = [-180,180,-60,90]\n",
    "region = [-124.8,-66.95,24.5,49.4]\n",
    "data_path = f'/tera04/zhwei/xionghui/bedrock/run/{resolution}/'\n",
    "post_data_path = '/tera04/zhwei/xionghui/bedrock/'\n",
    "shp_path = '/tera04/zhwei/xionghui/bedrock/Shp/'\n",
    "fig_path = f'/home/xuxh22/stu01/Bedrock/fig/{resolution}/'\n",
    "path = '/home/xuxh22/stu01/Bedrock/'\n",
    "if resolution == \"0p1\":\n",
    "    size = 0.1\n",
    "elif resolution == \"500\":\n",
    "    size = 0.0005\n",
    "\n",
    "dir_man = DirMan(data_path)\n",
    "dir_man.enter()"
   ]
  },
  {
   "cell_type": "code",
   "execution_count": null,
   "metadata": {},
   "outputs": [],
   "source": [
    "os.chdir('/tera04/zhwei/xionghui/bedrock/mask1/mask1_v3/')\n",
    "os.system('cdo sellonlatbox,-124.733322988206,-66.93923594271653,24.5127783154114,49.3846765170614 DTB_temp1.nc DTB_temp1_US.nc4')\n",
    "os.system('cdo -b F32 -P 48 --no_remap_weights remapbil,/tera04/zhwei/xionghui/bedrock/US/masks/masks_all_combined.nc DTB_temp1_US.nc4 DTB_temp1_US_nature.nc4')\n",
    "os.system('cdo -setrtoc2,0,150,1,nan DTB_temp1_US_nature.nc4 mask1_US_nature.nc4')"
   ]
  },
  {
   "cell_type": "code",
   "execution_count": null,
   "metadata": {},
   "outputs": [],
   "source": [
    "os.chdir('/tera04/zhwei/xionghui/bedrock/mask2/')\n",
    "os.system('cdo sellonlatbox,-124.733322988206,-66.93923594271653,24.5127783154114,49.3846765170614 mask2_temp1.nc mask2_temp1_US.nc4')\n",
    "os.system('cdo -b F32 -P 48 --no_remap_weights remaplaf,/tera04/zhwei/xionghui/bedrock/US/masks/masks_all_combined.nc mask2_temp1_US.nc4 mask2_temp1_US_nature.nc4')\n",
    "os.system('cdo -setrtoc2,1,9,1,nan mask2_temp1_US_nature.nc4 mask2_US_nature.nc4')"
   ]
  },
  {
   "cell_type": "code",
   "execution_count": null,
   "metadata": {},
   "outputs": [],
   "source": [
    "os.chdir('/tera04/zhwei/xionghui/bedrock/mask3/')\n",
    "os.system('cdo sellonlatbox,-124.733322988206,-66.93923594271653,24.5127783154114,49.3846765170614 mask3_temp1.nc mask3_temp1_US.nc4')\n",
    "os.system('cdo -b F32 -P 48 --no_remap_weights remapbil,/tera04/zhwei/xionghui/bedrock/US/masks/masks_all_combined.nc mask3_temp1_US.nc4 mask3_temp1_US_nature.nc4')\n",
    "os.system('cdo -setrtoc2,-inf,0,1,nan mask3_temp1_US_nature.nc4 mask3_US_nature.nc4')"
   ]
  },
  {
   "cell_type": "code",
   "execution_count": null,
   "metadata": {},
   "outputs": [],
   "source": [
    "os.chdir('/tera04/zhwei/xionghui/bedrock/mask/mask_US_nature/')\n",
    "os.system('cp /tera04/zhwei/xionghui/bedrock/mask1/mask1_v3/mask1_US_nature.nc4 ./')\n",
    "os.system('cp /tera04/zhwei/xionghui/bedrock/mask2/mask2_US_nature.nc4 ./')\n",
    "os.system('cp /tera04/zhwei/xionghui/bedrock/mask3/mask3_US_nature.nc4 ./')\n",
    "os.system('cdo mul mask1_US_nature.nc4 mask2_US_nature.nc4 mask12_US_nature.nc4')\n",
    "os.system('cdo mul mask12_US_nature.nc4 mask3_US_nature.nc4 mask123_US_nature.nc4')"
   ]
  },
  {
   "cell_type": "code",
   "execution_count": null,
   "metadata": {},
   "outputs": [],
   "source": [
    "os.chdir('/tera04/zhwei/xionghui/bedrock/US/deficits/')\n",
    "os.system('cdo mul Sbedrock.nc ../../mask/mask_US_nature/mask123_US_nature.nc4 Sbedrock_mask.nc4')\n",
    "os.system('cdo mul Sr.nc ../../mask/mask_US_nature/mask123_US_nature.nc4 Sr_mask.nc4')\n",
    "os.system('cdo mul Sbedrock_dividedby_Sr.nc ../../mask/mask_US_nature/mask123_US_nature.nc4 Sbedrock_dividedby_Sr_mask.nc4')\n",
    "\n",
    "\n",
    "os.chdir('/tera04/zhwei/xionghui/bedrock/US/products_used/gNATSGO')\n",
    "os.system('cdo mul Ssoil_500m.nc ../../../mask/mask_US_nature/mask123_US_nature.nc4 Ssoil_500m_mask.nc4')"
   ]
  }
 ],
 "metadata": {
  "kernelspec": {
   "display_name": "jupyter",
   "language": "python",
   "name": "python3"
  },
  "language_info": {
   "codemirror_mode": {
    "name": "ipython",
    "version": 3
   },
   "file_extension": ".py",
   "mimetype": "text/x-python",
   "name": "python",
   "nbconvert_exporter": "python",
   "pygments_lexer": "ipython3",
   "version": "3.10.14"
  }
 },
 "nbformat": 4,
 "nbformat_minor": 2
}
