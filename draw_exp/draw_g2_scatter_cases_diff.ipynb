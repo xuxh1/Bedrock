{
 "cells": [
  {
   "cell_type": "code",
   "execution_count": null,
   "metadata": {},
   "outputs": [],
   "source": [
    "%matplotlib inline\n",
    "\n",
    "import os\n",
    "import cmaps\n",
    "import salem\n",
    "import numpy as np\n",
    "import pandas as pd\n",
    "import xarray as xr\n",
    "import geopandas as gpd\n",
    "from pylab import rcParams\n",
    "import matplotlib\n",
    "import matplotlib.pyplot as plt\n",
    "import matplotlib.colors as colors\n",
    "import matplotlib.patches as mpatches\n",
    "from matplotlib.gridspec import GridSpec\n",
    "import cartopy.crs as ccrs\n",
    "import cartopy.feature as cfeature\n",
    "from cartopy.mpl.ticker import LongitudeFormatter, LatitudeFormatter\n",
    "from cartopy.mpl.gridliner import LONGITUDE_FORMATTER, LATITUDE_FORMATTER\n",
    "from myfunc import timer\n",
    "from myfunc import DirMan\n",
    "import config\n",
    "import matplotlib.font_manager as fm\n",
    "\n",
    "# configuration\n",
    "# resolution = \"0p1\"\n",
    "resolution = \"500\"\n",
    "region = [-180,180,-60,90]\n",
    "data_path = f'/tera04/zhwei/xionghui/bedrock/run/{resolution}/'\n",
    "post_data_path = '/tera04/zhwei/xionghui/bedrock/'\n",
    "shp_path = '/tera04/zhwei/xionghui/bedrock/Shp/'\n",
    "fig_path = f'/home/xuxh22/stu01/Bedrock/fig/{resolution}/'\n",
    "path = '/home/xuxh22/stu01/Bedrock/'\n",
    "if resolution == \"0p1\":\n",
    "    size = 0.1\n",
    "elif resolution == \"500\":\n",
    "    size = 0.0005\n",
    "\n",
    "print('python draw_g2_scatter.py')\n",
    "print(data_path)\n",
    "dir_man = DirMan(data_path)\n",
    "dir_man.enter()\n",
    "os.makedirs(f'{fig_path}/global_map_2', exist_ok=True)\n",
    "\n",
    "shp = gpd.GeoDataFrame.from_file(shp_path+'World_CN/ne_10m_admin_0_countries_chn.shp')\n",
    "\n",
    "pd.set_option('display.max_columns', None)\n",
    "font = {'family': 'Times New Roman'}\n",
    "matplotlib.rc('font', **font)\n",
    "\n",
    "params = {'backend': 'ps',\n",
    "          'axes.labelsize': 25,\n",
    "          'grid.linewidth': 0.2,\n",
    "          'font.size': 25,\n",
    "          'legend.fontsize': 18,\n",
    "          'legend.frameon': False,\n",
    "          'xtick.labelsize': 30,\n",
    "          'xtick.direction': 'out',\n",
    "          'ytick.labelsize': 30,\n",
    "          'ytick.direction': 'out',\n",
    "          'legend.handlelength': 1,\n",
    "          'legend.handleheight': 1,\n",
    "          'savefig.bbox': 'tight',\n",
    "          'axes.unicode_minus': False,\n",
    "          \"mathtext.default\":\"regular\",\n",
    "          'text.usetex': False}\n",
    "rcParams.update(params)\n",
    "\n",
    "font_properties = fm.FontProperties(weight='bold')\n",
    "\n",
    "casename1 = 'bedrock_1'\n",
    "path1 = f'{data_path}/cases/{casename1}/'\n",
    "casename2 = 'bedrock_2'\n",
    "path2 = f'{data_path}/cases/{casename2}/'\n",
    "casename3 = 'bedrock_3'\n",
    "path3 = f'{data_path}/cases/{casename3}/'"
   ]
  },
  {
   "cell_type": "code",
   "execution_count": null,
   "metadata": {},
   "outputs": [],
   "source": [
    "def draw1(df1,name,level,cmap):\n",
    "    df1['diff'] = df1[name[0]] - df1[name[1]]\n",
    "\n",
    "    fig = plt.figure(figsize=(12, 6), dpi=500)\n",
    "\n",
    "    fig.subplots_adjust(left=0, right=1, \n",
    "                    bottom=0, top=1) \n",
    "        \n",
    "    #Create a subgraph grid with 2 rows and 3 columns\n",
    "    gs = GridSpec(2, 6)\n",
    "    ax = fig.add_subplot(gs[:, :], projection=ccrs.PlateCarree())\n",
    "\n",
    "    # Set drawing mode(note:extent's lat from positive to negative)\n",
    "    img = ax.scatter(df1['lon'], df1['lat'], c=df1['diff'], \n",
    "                    s=size, linewidths=0, edgecolors=\"k\", \n",
    "                    cmap=cmap, zorder=1, vmin=level[0], vmax=level[-1])\n",
    "\n",
    "    for spine in ax.spines.values():\n",
    "        spine.set_edgecolor('black')  \n",
    "        spine.set_linewidth(0)  \n",
    "\n",
    "    ax.set_xlim(region[0], region[1])\n",
    "    ax.set_ylim(region[2], region[3])\n",
    "\n",
    "    # coastline = cfeature.NaturalEarthFeature('physical', 'coastline', '50m', edgecolor='0.6', facecolor='none')\n",
    "    rivers = cfeature.NaturalEarthFeature('physical', 'rivers_lake_centerlines', '110m', edgecolor='0.6', facecolor='none')\n",
    "    ax.add_feature(cfeature.LAND, facecolor='0.95')\n",
    "    # ax.add_feature(coastline, linewidth=0.6)\n",
    "    ax.add_feature(cfeature.LAKES, alpha=1, facecolor='white', edgecolor='white')\n",
    "    ax.add_feature(rivers, linewidth=0.8)\n",
    "    # ax.gridlines(draw_labels=False, linestyle=':', linewidth=0.7, color='grey', alpha=0.8)\n",
    "\n",
    "    ax.add_feature(cfeature.COASTLINE)\n",
    "    ax.set_extent(region)\n",
    "    ax.xaxis.set_major_formatter(LongitudeFormatter())\n",
    "    ax.yaxis.set_major_formatter(LatitudeFormatter())\n",
    "\n",
    "    # From the bottom left corner x, y, width, height\n",
    "    cbar_ax = fig.add_axes([0.4, 0.08, 0.4, 0.03], frameon = False) \n",
    "    cb = fig.colorbar(img, \n",
    "                    drawedges=False,\n",
    "                    ticks=level, \n",
    "                    cax=cbar_ax, \n",
    "                    orientation='horizontal',\n",
    "                    spacing='uniform')\n",
    "\n",
    "    cb.ax.tick_params(labelsize=20)\n",
    "    cb.ax.yaxis.set_tick_params(direction='out', width=1.5)\n",
    "    for label in cb.ax.get_xticklabels() + cb.ax.get_yticklabels():\n",
    "        label.set_fontproperties(font_properties)\n",
    "    cb.set_label(f'{name[3]}', fontsize=25, fontweight='bold',labelpad=-92)\n",
    "\n",
    "    plt.tight_layout()\n",
    "\n",
    "    # plt.savefig(f\"{fig_path}/global_map_2/g2_{name[2]}_diff.png\")\n",
    "    plt.show()"
   ]
  },
  {
   "cell_type": "code",
   "execution_count": null,
   "metadata": {},
   "outputs": [],
   "source": [
    "df = pd.read_csv(f'{data_path}csv/Global_cases_sr.csv')\n",
    "df1 = df.copy()"
   ]
  },
  {
   "cell_type": "code",
   "execution_count": null,
   "metadata": {},
   "outputs": [],
   "source": [
    "rgb_list = ['#606060','#8ec0cb','#00CC66','#66CC00',\n",
    "                                '#69aa4c','#CCCC00','#ebc874','#99004C','#FF6666']\n",
    "name = [f'{path1}Sr_mean', f'{path2}Sr_mean', 'Sr_case1', '(Exp1 - Exp2) \\n$S_{r}$ (mm)']\n",
    "level = np.arange(-200,300,100)\n",
    "cmap = cmaps.cmocean_balance\n",
    "draw1(df1,name,level,cmap)"
   ]
  },
  {
   "cell_type": "code",
   "execution_count": null,
   "metadata": {},
   "outputs": [],
   "source": [
    "name = [f'{path1}Sr_mean', f'{path3}Sr_mean', 'Sr_case1', '(Exp1 - Exp3) \\n$S_{r}$ (mm)']\n",
    "level = np.arange(-200,300,100)\n",
    "cmap = cmaps.cmocean_balance\n",
    "draw1(df1,name,level,cmap)"
   ]
  },
  {
   "cell_type": "code",
   "execution_count": null,
   "metadata": {},
   "outputs": [],
   "source": [
    "rgb_list = ['#606060','#8ec0cb','#00CC66','#66CC00',\n",
    "                                '#69aa4c','#CCCC00','#ebc874','#99004C','#FF6666']\n",
    "name = [f'{path2}Sr_mean', f'{path3}Sr_mean', 'Sr_case1', '(Exp2 - Exp3) \\n$S_{r}$ (mm)']\n",
    "level = np.arange(-200,300,100)\n",
    "cmap = cmaps.cmocean_balance\n",
    "draw1(df1,name,level,cmap)"
   ]
  },
  {
   "cell_type": "code",
   "execution_count": null,
   "metadata": {},
   "outputs": [],
   "source": [
    "# name = [f'{path1}Sr_mean', 'Sr', 'Sr_case1', '(Exp1 - our calculated) \\n$S_{r}$ (mm)']\n",
    "# level = np.arange(-200,300,100)\n",
    "# cmap = cmaps.cmocean_curl\n",
    "# draw1(df1,name,level,cmap)"
   ]
  },
  {
   "cell_type": "code",
   "execution_count": null,
   "metadata": {},
   "outputs": [],
   "source": [
    "# name = [f'{path2}Sr_mean', 'Sr', 'Sr_case2', '(Exp2 - our calculated) \\n$S_{r}$ (mm)']\n",
    "# level = np.arange(-200,300,100)\n",
    "# cmap = cmaps.cmocean_curl\n",
    "# draw1(df1,name,level,cmap)"
   ]
  },
  {
   "cell_type": "code",
   "execution_count": null,
   "metadata": {},
   "outputs": [],
   "source": [
    "# name = [f'{path3}Sr_mean', 'Sr', 'Sr_case3', '(Exp3 - our calculated) \\n$S_{r}$ (mm)']\n",
    "# level = np.arange(-200,300,100)\n",
    "# cmap = cmaps.cmocean_curl\n",
    "# draw1(df1,name,level,cmap)"
   ]
  },
  {
   "cell_type": "code",
   "execution_count": null,
   "metadata": {},
   "outputs": [],
   "source": [
    "df = pd.read_csv(f'{data_path}csv/Global_cases_sb.csv')\n",
    "df1 = df.copy()"
   ]
  },
  {
   "cell_type": "code",
   "execution_count": null,
   "metadata": {},
   "outputs": [],
   "source": [
    "rgb_list = ['#606060','#8ec0cb','#00CC66','#66CC00',\n",
    "                                '#69aa4c','#CCCC00','#ebc874','#99004C','#FF6666']\n",
    "\n",
    "name = [f'{path1}Sbedrock_mean', f'{path2}Sbedrock_mean', 'Sbedrock', '(Exp1 - Exp2)\\n$S_{bedrock}$ (mm)']\n",
    "level = np.arange(-200,300,100)\n",
    "cmap = cmaps.cmocean_balance\n",
    "draw1(df1,name,level,cmap)"
   ]
  },
  {
   "cell_type": "code",
   "execution_count": null,
   "metadata": {},
   "outputs": [],
   "source": [
    "rgb_list = ['#606060','#8ec0cb','#00CC66','#66CC00',\n",
    "                                '#69aa4c','#CCCC00','#ebc874','#99004C','#FF6666']\n",
    "\n",
    "name = [f'{path1}Sbedrock_mean', f'{path3}Sbedrock_mean', 'Sbedrock', '(Exp1 - Exp3)\\n$S_{bedrock}$ (mm)']\n",
    "level = np.arange(-200,300,100)\n",
    "cmap = cmaps.cmocean_balance\n",
    "draw1(df1,name,level,cmap)"
   ]
  },
  {
   "cell_type": "code",
   "execution_count": null,
   "metadata": {},
   "outputs": [],
   "source": [
    "rgb_list = ['#606060','#8ec0cb','#00CC66','#66CC00',\n",
    "                                '#69aa4c','#CCCC00','#ebc874','#99004C','#FF6666']\n",
    "\n",
    "name = [f'{path2}Sbedrock_mean', f'{path3}Sbedrock_mean', 'Sbedrock', '(Exp2 - Exp3)\\n$S_{bedrock}$ (mm)']\n",
    "level = np.arange(-200,300,100)\n",
    "cmap = cmaps.cmocean_balance\n",
    "draw1(df1,name,level,cmap)"
   ]
  },
  {
   "cell_type": "code",
   "execution_count": null,
   "metadata": {},
   "outputs": [],
   "source": [
    "df = pd.read_csv(f'{data_path}csv/Global_cases_ss.csv')\n",
    "df1 = df.copy()"
   ]
  },
  {
   "cell_type": "code",
   "execution_count": null,
   "metadata": {},
   "outputs": [],
   "source": [
    "rgb_list = ['#606060','#8ec0cb','#00CC66','#66CC00',\n",
    "                                '#69aa4c','#CCCC00','#ebc874','#99004C','#FF6666']\n",
    "\n",
    "name = [f'{path1}Ssoil_mean', f'{path2}Ssoil_mean', 'Ssoil', '(Exp1 - Exp2)\\n$S_{soil}$ (mm)']\n",
    "level = np.arange(-200,300,100)\n",
    "cmap = cmaps.cmocean_balance\n",
    "draw1(df1,name,level,cmap)"
   ]
  },
  {
   "cell_type": "code",
   "execution_count": null,
   "metadata": {},
   "outputs": [],
   "source": [
    "rgb_list = ['#606060','#8ec0cb','#00CC66','#66CC00',\n",
    "                                '#69aa4c','#CCCC00','#ebc874','#99004C','#FF6666']\n",
    "\n",
    "name = [f'{path1}Ssoil_mean', f'{path3}Ssoil_mean', 'Ssoil', '(Exp1 - Exp3)\\n$S_{soil}$ (mm)']\n",
    "level = np.arange(-200,300,100)\n",
    "cmap = cmaps.cmocean_balance\n",
    "draw1(df1,name,level,cmap)"
   ]
  },
  {
   "cell_type": "code",
   "execution_count": null,
   "metadata": {},
   "outputs": [],
   "source": [
    "rgb_list = ['#606060','#8ec0cb','#00CC66','#66CC00',\n",
    "                                '#69aa4c','#CCCC00','#ebc874','#99004C','#FF6666']\n",
    "\n",
    "name = [f'{path2}Ssoil_mean', f'{path3}Ssoil_mean', 'Ssoil', '(Exp2 - Exp3)\\n$S_{soil}$ (mm)']\n",
    "level = np.arange(-200,300,100)\n",
    "cmap = cmaps.cmocean_balance\n",
    "draw1(df1,name,level,cmap)"
   ]
  },
  {
   "cell_type": "code",
   "execution_count": null,
   "metadata": {},
   "outputs": [],
   "source": [
    "df = pd.read_csv(f'{data_path}csv/Global_cases_runoff_et.csv')\n",
    "df1 = df.copy()"
   ]
  },
  {
   "cell_type": "code",
   "execution_count": null,
   "metadata": {},
   "outputs": [],
   "source": [
    "name = [f'{path1}rnof_mean', f'{path2}rnof_mean', 'Q_case1', '(Exp1 - Exp2) \\ntotal runoff (mm)']\n",
    "level = np.arange(-400,600,200)\n",
    "cmap = cmaps.cmocean_balance\n",
    "draw1(df1,name,level,cmap)"
   ]
  },
  {
   "cell_type": "code",
   "execution_count": null,
   "metadata": {},
   "outputs": [],
   "source": [
    "name = [f'{path1}rnof_mean', f'{path3}rnof_mean', 'Q_case1', '(Exp1 - Exp3) \\ntotal runoff (mm)']\n",
    "level = np.arange(-400,600,200)\n",
    "cmap = cmaps.cmocean_balance\n",
    "draw1(df1,name,level,cmap)"
   ]
  },
  {
   "cell_type": "code",
   "execution_count": null,
   "metadata": {},
   "outputs": [],
   "source": [
    "name = [f'{path2}rnof_mean', f'{path3}rnof_mean', 'Q_case1', '(Exp2 - Exp3) \\ntotal runoff (mm)']\n",
    "level = np.arange(-400,600,200)\n",
    "cmap = cmaps.cmocean_balance\n",
    "draw1(df1,name,level,cmap)"
   ]
  },
  {
   "cell_type": "code",
   "execution_count": null,
   "metadata": {},
   "outputs": [],
   "source": [
    "# name = [f'{path1}rnof_mean', 'Q_mean', 'Q_case1', '(Exp1 - our calculated) \\ntotal runoff (mm)']\n",
    "# level = np.arange(-400,600,200)\n",
    "# cmap = cmaps.cmocean_balance\n",
    "# draw1(df1,name,level,cmap)"
   ]
  },
  {
   "cell_type": "code",
   "execution_count": null,
   "metadata": {},
   "outputs": [],
   "source": [
    "# name = [f'{path2}rnof_mean', 'Q_mean', 'Q_case2', '(Exp2 - our calculated) \\ntotal runoff (mm)']\n",
    "# level = np.arange(-400,600,200)\n",
    "# cmap = cmaps.cmocean_balance\n",
    "# draw1(df1,name,level,cmap)"
   ]
  },
  {
   "cell_type": "code",
   "execution_count": null,
   "metadata": {},
   "outputs": [],
   "source": [
    "# name = [f'{path3}rnof_mean', 'Q_mean', 'Q_case3', '(Exp3 - our calculated) \\ntotal runoff (mm)']\n",
    "# level = np.arange(-400,600,200)\n",
    "# cmap = cmaps.cmocean_balance\n",
    "# draw1(df1,name,level,cmap)"
   ]
  },
  {
   "cell_type": "code",
   "execution_count": null,
   "metadata": {},
   "outputs": [],
   "source": [
    "name = [f'{path1}fevpa_mean', f'{path2}fevpa_mean', 'ET_case1', '(Exp1 - Exp2) \\nevapotranspiration (mm)']\n",
    "level = np.arange(-600,900,300)\n",
    "cmap = cmaps.cmocean_balance\n",
    "draw1(df1,name,level,cmap)"
   ]
  },
  {
   "cell_type": "code",
   "execution_count": null,
   "metadata": {},
   "outputs": [],
   "source": [
    "name = [f'{path1}fevpa_mean', f'{path3}fevpa_mean', 'ET_case1', '(Exp1 - Exp3) \\nevapotranspiration (mm)']\n",
    "level = np.arange(-600,900,300)\n",
    "cmap = cmaps.cmocean_balance\n",
    "draw1(df1,name,level,cmap)"
   ]
  },
  {
   "cell_type": "code",
   "execution_count": null,
   "metadata": {},
   "outputs": [],
   "source": [
    "name = [f'{path2}fevpa_mean', f'{path3}fevpa_mean', 'ET_case1', '(Exp2 - Exp3) \\nevapotranspiration (mm)']\n",
    "level = np.arange(-600,900,300)\n",
    "cmap = cmaps.cmocean_balance\n",
    "draw1(df1,name,level,cmap)"
   ]
  },
  {
   "cell_type": "code",
   "execution_count": null,
   "metadata": {},
   "outputs": [],
   "source": [
    "# name = [f'{path1}fevpa_mean', 'ET_mean', 'ET_case1', '(Exp1 - our calculated) \\nevapotranspiration (mm)']\n",
    "# level = np.arange(-600,900,300)\n",
    "# cmap = cmaps.cmocean_balance\n",
    "# draw1(df1,name,level,cmap)"
   ]
  },
  {
   "cell_type": "code",
   "execution_count": null,
   "metadata": {},
   "outputs": [],
   "source": [
    "# name = [f'{path2}fevpa_mean', 'ET_mean', 'ET_case2', '(Exp2 - our calculated) \\nevapotranspiration (mm)']\n",
    "# level = np.arange(-600,900,300)\n",
    "# cmap = cmaps.cmocean_balance\n",
    "# draw1(df1,name,level,cmap)"
   ]
  },
  {
   "cell_type": "code",
   "execution_count": null,
   "metadata": {},
   "outputs": [],
   "source": [
    "# name = [f'{path3}fevpa_mean', 'ET_mean', 'ET_case3', '(Exp3 - our calculated) \\nevapotranspiration (mm)']\n",
    "# level = np.arange(-600,900,300)\n",
    "# cmap = cmaps.cmocean_balance\n",
    "# draw1(df1,name,level,cmap)"
   ]
  }
 ],
 "metadata": {
  "kernelspec": {
   "display_name": "jupyter",
   "language": "python",
   "name": "python3"
  },
  "language_info": {
   "codemirror_mode": {
    "name": "ipython",
    "version": 3
   },
   "file_extension": ".py",
   "mimetype": "text/x-python",
   "name": "python",
   "nbconvert_exporter": "python",
   "pygments_lexer": "ipython3",
   "version": "3.10.14"
  }
 },
 "nbformat": 4,
 "nbformat_minor": 2
}
