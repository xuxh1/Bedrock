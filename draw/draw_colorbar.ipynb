{
 "cells": [
  {
   "cell_type": "code",
   "execution_count": 9,
   "metadata": {},
   "outputs": [
    {
     "name": "stdout",
     "output_type": "stream",
     "text": [
      "python draw_g2_scatter.py\n",
      "/tera04/zhwei/xionghui/bedrock/run/500/\n",
      "Entered /tera04/zhwei/xionghui/bedrock/run/500/\n"
     ]
    }
   ],
   "source": [
    "%matplotlib inline\n",
    "\n",
    "import os\n",
    "import cmaps\n",
    "import salem\n",
    "import numpy as np\n",
    "import pandas as pd\n",
    "import xarray as xr\n",
    "import geopandas as gpd\n",
    "from pylab import rcParams\n",
    "import matplotlib as mpl\n",
    "import matplotlib.pyplot as plt\n",
    "import matplotlib.colors as colors\n",
    "import matplotlib.patches as mpatches\n",
    "from matplotlib.gridspec import GridSpec\n",
    "import cartopy.crs as ccrs\n",
    "import cartopy.feature as cfeature\n",
    "from cartopy.mpl.ticker import LongitudeFormatter, LatitudeFormatter\n",
    "from cartopy.mpl.gridliner import LONGITUDE_FORMATTER, LATITUDE_FORMATTER\n",
    "from myfunc import timer\n",
    "from myfunc import DirMan\n",
    "import config\n",
    "import matplotlib.font_manager as fm\n",
    "\n",
    "# configuration\n",
    "# resolution = \"0p1\"\n",
    "resolution = \"500\"\n",
    "region = [-180,180,-60,90]\n",
    "data_path = f'/tera04/zhwei/xionghui/bedrock/run/{resolution}/'\n",
    "post_data_path = '/tera04/zhwei/xionghui/bedrock/'\n",
    "shp_path = '/tera04/zhwei/xionghui/bedrock/Shp/'\n",
    "fig_path = f'/home/xuxh22/stu01/Bedrock/fig/{resolution}/'\n",
    "path = '/home/xuxh22/stu01/Bedrock/'\n",
    "if resolution == \"0p1\":\n",
    "    size = 0.1\n",
    "elif resolution == \"500\":\n",
    "    size = 0.0005\n",
    "\n",
    "print('python draw_g2_scatter.py')\n",
    "print(data_path)\n",
    "dir_man = DirMan(data_path)\n",
    "dir_man.enter()\n",
    "os.makedirs(f'{fig_path}/global_map_2', exist_ok=True)\n",
    "\n",
    "shp = gpd.GeoDataFrame.from_file(shp_path+'World_CN/ne_10m_admin_0_countries_chn.shp')\n",
    "\n",
    "pd.set_option('display.max_columns', None)\n",
    "# font = {'family': 'Times New Roman'}\n",
    "font = {'family': 'Arial'}\n",
    "mpl.rc('font', **font)\n",
    "\n",
    "params = {'backend': 'ps',\n",
    "          'axes.linewidth': 2,\n",
    "          'grid.linewidth': 0.2,\n",
    "          'legend.frameon': False,\n",
    "          'xtick.direction': 'out',\n",
    "          'ytick.direction': 'out',\n",
    "          'legend.handlelength': 1,\n",
    "          'legend.handleheight': 1,\n",
    "          'savefig.bbox': 'tight',\n",
    "          'axes.unicode_minus': False,\n",
    "          \"mathtext.default\":\"regular\",\n",
    "          'text.usetex': False}\n",
    "rcParams.update(params)\n",
    "\n",
    "font_properties = fm.FontProperties(weight='bold', size=25)\n",
    "\n",
    "casename1 = 'bedrock_1'\n",
    "path1 = f'{data_path}/cases/{casename1}/'\n",
    "casename2 = 'bedrock_2'\n",
    "path2 = f'{data_path}/cases/{casename2}/'\n",
    "casename3 = 'bedrock_3'\n",
    "path3 = f'{data_path}/cases/{casename3}/'"
   ]
  },
  {
   "cell_type": "code",
   "execution_count": 2,
   "metadata": {},
   "outputs": [
    {
     "name": "stderr",
     "output_type": "stream",
     "text": [
      "/tmp/ipykernel_3930984/3827409812.py:35: UserWarning: This figure includes Axes that are not compatible with tight_layout, so results might be incorrect.\n",
      "  fig.tight_layout(pad=0)\n"
     ]
    },
    {
     "data": {
      "image/png": "[encoded data removed]",
      "text/plain": [
       "<Figure size 800x400 with 2 Axes>"
      ]
     },
     "metadata": {},
     "output_type": "display_data"
    }
   ],
   "source": [
    "fig = plt.figure(figsize=(8, 4))  \n",
    "\n",
    "cbar_ax = fig.add_axes([0.1, 0.3, 0.9, 0.03]) \n",
    "\n",
    "custom_ticks1 = [0, 100, 200, 300]  \n",
    "custom_ticks2 = [0, 400, 800, 1200] \n",
    "\n",
    "norm = mpl.colors.Normalize(vmin=0, vmax=300) \n",
    "cmap = cmaps.cmocean_speed[:200]\n",
    "\n",
    "cb = mpl.colorbar.ColorbarBase(\n",
    "    cbar_ax,\n",
    "    cmap=cmap,\n",
    "    norm=norm,\n",
    "    orientation='horizontal',\n",
    "    ticks=custom_ticks1, \n",
    "    drawedges=False,\n",
    "    spacing='uniform'\n",
    ")\n",
    "\n",
    "\n",
    "cb.ax.tick_params(labelsize=12, direction='out', width=1.5, length=6)\n",
    "cb.ax.xaxis.set_ticks_position('bottom')  \n",
    "\n",
    "cb_ax_bottom = cb.ax.twiny() \n",
    "cb_ax_bottom.set_xlim(0, 1200)  \n",
    "cb_ax_bottom.set_xticks(custom_ticks2) \n",
    "cb_ax_bottom.tick_params(labelsize=12, direction='out', width=1.5, length=6)\n",
    "# cb_ax_bottom.xaxis.set_ticks_position('top')  \n",
    "\n",
    "cb.outline.set_visible(True)\n",
    "cb.outline.set_edgecolor('#333333')\n",
    "cb.outline.set_linewidth(1.5)\n",
    "\n",
    "fig.tight_layout(pad=0)\n",
    "plt.show()"
   ]
  },
  {
   "cell_type": "code",
   "execution_count": 10,
   "metadata": {},
   "outputs": [
    {
     "data": {
      "image/png": "[encoded data removed]",
      "text/plain": [
       "<Figure size 400x800 with 1 Axes>"
      ]
     },
     "metadata": {},
     "output_type": "display_data"
    }
   ],
   "source": [
    "fig = plt.figure(figsize=(4, 8))  \n",
    "\n",
    "cbar_ax1 = fig.add_axes([0.3, 0.1, 0.05, 0.8], frameon=True)  \n",
    "\n",
    "custom_ticks1 = np.arange(0,60,10)\n",
    "norm1 = mpl.colors.Normalize(vmin=0, vmax=50)  \n",
    "cmap1 = cmaps.StepSeq25_r\n",
    "\n",
    "\n",
    "cb1 = mpl.colorbar.ColorbarBase(\n",
    "    cbar_ax1,\n",
    "    cmap=cmap1,\n",
    "    norm=norm1,\n",
    "    orientation='vertical',\n",
    "    ticks=custom_ticks1,\n",
    "    drawedges=False,\n",
    "    spacing='uniform'\n",
    ")\n",
    "cb1.ax.tick_params(labelsize=25, direction='out', width=1.5)\n",
    "cb1.ax.yaxis.set_ticks_position('right')  \n",
    "for label in cb1.ax.get_yticklabels():\n",
    "    label.set_fontproperties(font_properties)  \n",
    "\n",
    "\n",
    "cb1.outline.set_visible(True)\n",
    "cb1.outline.set_edgecolor('#333333')\n",
    "cb1.outline.set_linewidth(1.5)\n",
    "\n",
    "\n",
    "# fig.tight_layout(pad=0)\n",
    "plt.show()"
   ]
  },
  {
   "cell_type": "code",
   "execution_count": 5,
   "metadata": {},
   "outputs": [
    {
     "name": "stderr",
     "output_type": "stream",
     "text": [
      "/tmp/ipykernel_3957178/1568496413.py:57: UserWarning: This figure includes Axes that are not compatible with tight_layout, so results might be incorrect.\n",
      "  fig.tight_layout(pad=0)\n"
     ]
    },
    {
     "data": {
      "image/png": "[encoded data removed]",
      "text/plain": [
       "<Figure size 800x400 with 2 Axes>"
      ]
     },
     "metadata": {},
     "output_type": "display_data"
    }
   ],
   "source": [
    "fig = plt.figure(figsize=(8, 4))  \n",
    "\n",
    "cbar_ax1 = fig.add_axes([0.1, 0.34, 0.9, 0.04]) \n",
    "cbar_ax2 = fig.add_axes([0.1, 0.3, 0.9, 0.04]) \n",
    "\n",
    "custom_ticks1 = [0, 100, 200, 300, 400]\n",
    "norm1 = mpl.colors.Normalize(vmin=0, vmax=450)  \n",
    "rgb_list = ['#606060','#8ec0cb','#00CC66','#66CC00',\n",
    "                                '#69aa4c','#CCCC00','#ebc874','#99004C','#FF6666']\n",
    "cmap1 = colors.ListedColormap(rgb_list)\n",
    "\n",
    "custom_ticks2 = [0, 20, 40, 60, 80, 100]\n",
    "norm2 = mpl.colors.Normalize(vmin=0, vmax=100) \n",
    "cmap2 = cmaps.StepSeq25_r\n",
    "\n",
    "cb1 = mpl.colorbar.ColorbarBase(\n",
    "    cbar_ax1,\n",
    "    cmap=cmap1,\n",
    "    norm=norm1,\n",
    "    orientation='horizontal',\n",
    "    ticks=custom_ticks1,\n",
    "    drawedges=True,\n",
    "    spacing='uniform'\n",
    ")\n",
    "cb1.ax.tick_params(labelsize=16, direction='out', width=1.5)\n",
    "cb1.ax.xaxis.set_ticks_position('top')  \n",
    "for label in cb1.ax.get_yticklabels():\n",
    "    label.set_fontproperties(font_properties)  \n",
    "\n",
    "cb2 = mpl.colorbar.ColorbarBase(\n",
    "    cbar_ax2,\n",
    "    cmap=cmap2,\n",
    "    norm=norm2,\n",
    "    orientation='horizontal',\n",
    "    ticks=custom_ticks2,\n",
    "    drawedges=False,\n",
    "    spacing='uniform'\n",
    ")\n",
    "cb2.ax.tick_params(labelsize=16, direction='out', width=1.5)\n",
    "cb2.ax.xaxis.set_ticks_position('bottom')  \n",
    "for label in cb2.ax.get_yticklabels():\n",
    "    label.set_fontproperties(font_properties)  \n",
    "\n",
    "cb1.outline.set_visible(True)\n",
    "cb1.outline.set_edgecolor('#333333')\n",
    "cb1.outline.set_linewidth(1.5)\n",
    "\n",
    "cb2.outline.set_visible(True)\n",
    "cb2.outline.set_edgecolor('#333333')\n",
    "cb2.outline.set_linewidth(1.5)\n",
    "\n",
    "# x_center = (0.6 + 0.03*2) / 2 \n",
    "# y_top = 0.1 + 0.8 + 0.02  \n",
    "# fig.text(x_center, y_top, \"Bedrock \\nwater storage\\n capacity: \\n$S_{bedrock}$ (mm)\", \n",
    "#          fontsize=25, fontweight='bold', \n",
    "#          ha='center', va='bottom')\n",
    "fig.tight_layout(pad=0)\n",
    "plt.show()"
   ]
  },
  {
   "cell_type": "code",
   "execution_count": 5,
   "metadata": {},
   "outputs": [
    {
     "name": "stderr",
     "output_type": "stream",
     "text": [
      "/tmp/ipykernel_3930984/1963680326.py:29: UserWarning: This figure includes Axes that are not compatible with tight_layout, so results might be incorrect.\n",
      "  fig.tight_layout(pad=0)\n"
     ]
    },
    {
     "data": {
      "image/png": "[encoded data removed]",
      "text/plain": [
       "<Figure size 800x400 with 1 Axes>"
      ]
     },
     "metadata": {},
     "output_type": "display_data"
    }
   ],
   "source": [
    "fig = plt.figure(figsize=(8, 4))  \n",
    "\n",
    "cbar_ax = fig.add_axes([0.1, 0.3, 0.9, 0.03]) \n",
    "\n",
    "custom_ticks = [1, 1.3, 1.6, 1.9, 2.2, 2.5]  \n",
    "\n",
    "norm = mpl.colors.Normalize(vmin=custom_ticks[0], vmax=custom_ticks[-1]) \n",
    "rgb_list = ['#2d77b9','#719db8','#ffffeb','#e5694a','#bd1c25']\n",
    "cmap = colors.ListedColormap(rgb_list)\n",
    "\n",
    "cb = mpl.colorbar.ColorbarBase(\n",
    "    cbar_ax,\n",
    "    cmap=cmap,\n",
    "    norm=norm,\n",
    "    orientation='horizontal',\n",
    "    ticks=custom_ticks, \n",
    "    drawedges=True,\n",
    "    spacing='uniform'\n",
    ")\n",
    "\n",
    "\n",
    "cb.ax.tick_params(labelsize=12, direction='out', width=1.5, length=6)\n",
    "cb.ax.xaxis.set_ticks_position('bottom')  \n",
    "\n",
    "cb.outline.set_visible(True)\n",
    "cb.outline.set_edgecolor('#333333')\n",
    "cb.outline.set_linewidth(1.5)\n",
    "\n",
    "fig.tight_layout(pad=0)\n",
    "plt.show()"
   ]
  },
  {
   "cell_type": "code",
   "execution_count": 6,
   "metadata": {},
   "outputs": [
    {
     "name": "stderr",
     "output_type": "stream",
     "text": [
      "/tmp/ipykernel_3930984/2351214647.py:29: UserWarning: This figure includes Axes that are not compatible with tight_layout, so results might be incorrect.\n",
      "  fig.tight_layout(pad=0)\n"
     ]
    },
    {
     "data": {
      "image/png": "[encoded data removed]",
      "text/plain": [
       "<Figure size 800x400 with 1 Axes>"
      ]
     },
     "metadata": {},
     "output_type": "display_data"
    }
   ],
   "source": [
    "fig = plt.figure(figsize=(8, 4))  \n",
    "\n",
    "cbar_ax = fig.add_axes([0.1, 0.3, 0.9, 0.03]) \n",
    "\n",
    "custom_ticks = [0, 50, 100, 150, 200, 250]  \n",
    "\n",
    "norm = mpl.colors.Normalize(vmin=custom_ticks[0], vmax=custom_ticks[-1]) \n",
    "rgb_list = ['#79bc55','#00aae3','#1e4f9e','#dc5f30','#eb357b']\n",
    "cmap = colors.ListedColormap(rgb_list)\n",
    "\n",
    "cb = mpl.colorbar.ColorbarBase(\n",
    "    cbar_ax,\n",
    "    cmap=cmap,\n",
    "    norm=norm,\n",
    "    orientation='horizontal',\n",
    "    ticks=custom_ticks, \n",
    "    drawedges=True,\n",
    "    spacing='uniform'\n",
    ")\n",
    "\n",
    "\n",
    "cb.ax.tick_params(labelsize=12, direction='out', width=1.5, length=6)\n",
    "cb.ax.xaxis.set_ticks_position('bottom')  \n",
    "\n",
    "cb.outline.set_visible(True)\n",
    "cb.outline.set_edgecolor('#333333')\n",
    "cb.outline.set_linewidth(1.5)\n",
    "\n",
    "fig.tight_layout(pad=0)\n",
    "plt.show()"
   ]
  },
  {
   "cell_type": "code",
   "execution_count": 7,
   "metadata": {},
   "outputs": [
    {
     "name": "stderr",
     "output_type": "stream",
     "text": [
      "/tmp/ipykernel_3930984/601791181.py:29: UserWarning: This figure includes Axes that are not compatible with tight_layout, so results might be incorrect.\n",
      "  fig.tight_layout(pad=0)\n"
     ]
    },
    {
     "data": {
      "image/png": "[encoded data removed]",
      "text/plain": [
       "<Figure size 800x400 with 1 Axes>"
      ]
     },
     "metadata": {},
     "output_type": "display_data"
    }
   ],
   "source": [
    "fig = plt.figure(figsize=(8, 4))  \n",
    "\n",
    "cbar_ax = fig.add_axes([0.1, 0.3, 0.9, 0.06]) \n",
    "\n",
    "custom_ticks = [0, 500, 1000, 1500, 2000, 2500]  \n",
    "\n",
    "norm = mpl.colors.Normalize(vmin=custom_ticks[0], vmax=custom_ticks[-1]) \n",
    "rgb_list = ['#79bc55','#00aae3','#1e4f9e','#dc5f30','#eb357b']\n",
    "cmap = colors.ListedColormap(rgb_list)\n",
    "\n",
    "cb = mpl.colorbar.ColorbarBase(\n",
    "    cbar_ax,\n",
    "    cmap=cmap,\n",
    "    norm=norm,\n",
    "    orientation='horizontal',\n",
    "    ticks=custom_ticks, \n",
    "    drawedges=True,\n",
    "    spacing='uniform'\n",
    ")\n",
    "\n",
    "\n",
    "cb.ax.tick_params(labelsize=20, direction='out', width=1.5, length=6)\n",
    "cb.ax.xaxis.set_ticks_position('bottom')  \n",
    "\n",
    "cb.outline.set_visible(True)\n",
    "cb.outline.set_edgecolor('#333333')\n",
    "cb.outline.set_linewidth(1.5)\n",
    "\n",
    "fig.tight_layout(pad=0)\n",
    "plt.show()"
   ]
  },
  {
   "cell_type": "code",
   "execution_count": 8,
   "metadata": {},
   "outputs": [
    {
     "name": "stderr",
     "output_type": "stream",
     "text": [
      "/tmp/ipykernel_3930984/2644312301.py:29: UserWarning: This figure includes Axes that are not compatible with tight_layout, so results might be incorrect.\n",
      "  fig.tight_layout(pad=0)\n"
     ]
    },
    {
     "data": {
      "image/png": "[encoded data removed]",
      "text/plain": [
       "<Figure size 800x400 with 1 Axes>"
      ]
     },
     "metadata": {},
     "output_type": "display_data"
    }
   ],
   "source": [
    "fig = plt.figure(figsize=(8, 4))  \n",
    "\n",
    "cbar_ax = fig.add_axes([0.1, 0.3, 0.9, 0.06]) \n",
    "\n",
    "custom_ticks = [0, 6, 12, 18, 24, 30]  \n",
    "\n",
    "norm = mpl.colors.Normalize(vmin=custom_ticks[0], vmax=custom_ticks[-1]) \n",
    "rgb_list = ['#d0b7cf','#fad92c','#91c2d6','#f5942c','#ec3f2e']\n",
    "cmap = colors.ListedColormap(rgb_list)\n",
    "\n",
    "cb = mpl.colorbar.ColorbarBase(\n",
    "    cbar_ax,\n",
    "    cmap=cmap,\n",
    "    norm=norm,\n",
    "    orientation='horizontal',\n",
    "    ticks=custom_ticks, \n",
    "    drawedges=True,\n",
    "    spacing='uniform'\n",
    ")\n",
    "\n",
    "\n",
    "cb.ax.tick_params(labelsize=20, direction='out', width=1.5, length=6)\n",
    "cb.ax.xaxis.set_ticks_position('bottom')  \n",
    "\n",
    "cb.outline.set_visible(True)\n",
    "cb.outline.set_edgecolor('#333333')\n",
    "cb.outline.set_linewidth(1.5)\n",
    "\n",
    "fig.tight_layout(pad=0)\n",
    "plt.show()"
   ]
  },
  {
   "cell_type": "code",
   "execution_count": 9,
   "metadata": {},
   "outputs": [
    {
     "name": "stderr",
     "output_type": "stream",
     "text": [
      "/tmp/ipykernel_3930984/3110834632.py:29: UserWarning: This figure includes Axes that are not compatible with tight_layout, so results might be incorrect.\n",
      "  fig.tight_layout(pad=0)\n"
     ]
    },
    {
     "data": {
      "image/png": "[encoded data removed]",
      "text/plain": [
       "<Figure size 800x400 with 1 Axes>"
      ]
     },
     "metadata": {},
     "output_type": "display_data"
    }
   ],
   "source": [
    "fig = plt.figure(figsize=(8, 4))  \n",
    "\n",
    "cbar_ax = fig.add_axes([0.1, 0.3, 0.9, 0.03]) \n",
    "\n",
    "custom_ticks = [0, 40, 80, 120, 160, 200]  \n",
    "\n",
    "norm = mpl.colors.Normalize(vmin=custom_ticks[0], vmax=custom_ticks[-1]) \n",
    "rgb_list = ['#eaadc8','#fcb24a','#b1da93','#609dda','#9184bd']\n",
    "cmap = colors.ListedColormap(rgb_list)\n",
    "\n",
    "cb = mpl.colorbar.ColorbarBase(\n",
    "    cbar_ax,\n",
    "    cmap=cmap,\n",
    "    norm=norm,\n",
    "    orientation='horizontal',\n",
    "    ticks=custom_ticks, \n",
    "    drawedges=True,\n",
    "    spacing='uniform'\n",
    ")\n",
    "\n",
    "\n",
    "cb.ax.tick_params(labelsize=12, direction='out', width=1.5, length=6)\n",
    "cb.ax.xaxis.set_ticks_position('bottom')  \n",
    "\n",
    "cb.outline.set_visible(True)\n",
    "cb.outline.set_edgecolor('#333333')\n",
    "cb.outline.set_linewidth(1.5)\n",
    "\n",
    "fig.tight_layout(pad=0)\n",
    "plt.show()"
   ]
  },
  {
   "cell_type": "code",
   "execution_count": 10,
   "metadata": {},
   "outputs": [
    {
     "name": "stderr",
     "output_type": "stream",
     "text": [
      "/tmp/ipykernel_3930984/1652981560.py:39: UserWarning: This figure includes Axes that are not compatible with tight_layout, so results might be incorrect.\n",
      "  fig.tight_layout(pad=0)\n"
     ]
    },
    {
     "data": {
      "image/png": "[encoded data removed]",
      "text/plain": [
       "<Figure size 400x800 with 1 Axes>"
      ]
     },
     "metadata": {},
     "output_type": "display_data"
    }
   ],
   "source": [
    "fig = plt.figure(figsize=(4, 8))  \n",
    "\n",
    "\n",
    "cbar_ax1 = fig.add_axes([0.3, 0.1, 0.05, 0.8], frameon=True)  \n",
    "\n",
    "custom_ticks1 = [0, 100, 150, 200, 220, 240, 300, 400, 700, 1000, 1500, 2000, 4000, 8000]\n",
    "\n",
    "cmap = 'RdBu_r'\n",
    "\n",
    "def define_colormap(level, cmap_name):\n",
    "    cmap = plt.get_cmap(cmap_name)\n",
    "    color = cmap(np.linspace(0, 1, len(level) - 1))\n",
    "    cmap_custom = colors.ListedColormap(color)\n",
    "    cmap_custom.set_under(cmap(0))\n",
    "    cmap_custom.set_over(color[-1])\n",
    "    norm = colors.BoundaryNorm(level, cmap_custom.N)\n",
    "    return cmap_custom, norm\n",
    "\n",
    "cmap1, norm1= define_colormap(custom_ticks1,cmap)\n",
    "\n",
    "cb1 = mpl.colorbar.ColorbarBase(\n",
    "    cbar_ax1,\n",
    "    cmap=cmap1,\n",
    "    norm=norm1,\n",
    "    orientation='vertical',\n",
    "    ticks=custom_ticks1,\n",
    "    drawedges=True,\n",
    "    spacing='uniform'\n",
    ")\n",
    "\n",
    "cb1.ax.tick_params(labelsize=16, direction='out', width=1.5)\n",
    "cb1.ax.yaxis.set_ticks_position('right')  \n",
    "\n",
    "cb1.outline.set_visible(True)\n",
    "cb1.outline.set_edgecolor('#333333')\n",
    "cb1.outline.set_linewidth(1.5)\n",
    "cb1.set_label(f\"DTB in CONUS (cm)\", fontsize=20, fontweight='bold')\n",
    "\n",
    "fig.tight_layout(pad=0)\n",
    "plt.show()"
   ]
  }
 ],
 "metadata": {
  "kernelspec": {
   "display_name": "jupyter",
   "language": "python",
   "name": "python3"
  },
  "language_info": {
   "codemirror_mode": {
    "name": "ipython",
    "version": 3
   },
   "file_extension": ".py",
   "mimetype": "text/x-python",
   "name": "python",
   "nbconvert_exporter": "python",
   "pygments_lexer": "ipython3",
   "version": "3.10.14"
  }
 },
 "nbformat": 4,
 "nbformat_minor": 2
}
